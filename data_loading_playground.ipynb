{
 "cells": [
  {
   "cell_type": "code",
   "execution_count": 1,
   "metadata": {},
   "outputs": [],
   "source": [
    "import sys\n",
    "sys.path.insert(0,\"/work/pip\")\n",
    "\n",
    "from __future__ import absolute_import\n",
    "from __future__ import print_function\n",
    "\n",
    "import numpy as np\n",
    "import argparse\n",
    "import os\n",
    "import imp\n",
    "import re\n",
    "\n",
    "from mimic3models.in_hospital_mortality import utils\n",
    "from mimic3benchmark.readers import Reader, InHospitalMortalityReader\n",
    "\n",
    "from mimic3models.preprocessing import Discretizer, Normalizer, DiscretizerContinuous"
   ]
  },
  {
   "cell_type": "code",
   "execution_count": 2,
   "metadata": {},
   "outputs": [],
   "source": [
    "class PatientEmbeddingReader(Reader):\n",
    "    def __init__(self, dataset_dir, listfile=None, period_length=48.0):\n",
    "        \"\"\" Reader for in-hospital moratality prediction task.\n",
    "\n",
    "        :param dataset_dir:   Directory where timeseries files are stored.\n",
    "        :param listfile:      Path to a listfile. If this parameter is left `None` then\n",
    "                              `dataset_dir/listfile.csv` will be used.\n",
    "        :param period_length: Double the Length of the period (in hours) from which the embedding is created.\n",
    "        \"\"\"\n",
    "        Reader.__init__(self, dataset_dir, listfile)\n",
    "        self._data = [line.split(',') for line in self._data]\n",
    "        self._data = [(x, int(wt), int(w)) for (x, wt, w) in self._data]\n",
    "        self._period_length = period_length\n",
    "        self._input_dim = None\n",
    "        \n",
    "    def _read_timeseries(self, ts_filename):\n",
    "        ret = []\n",
    "        with open(os.path.join(self._dataset_dir, ts_filename), \"r\") as tsfile:\n",
    "            header = tsfile.readline().strip().split(',')\n",
    "            assert header[0] == \"Hours\"\n",
    "            for line in tsfile:\n",
    "                mas = line.strip().split(',')\n",
    "                ret.append(np.array(mas))\n",
    "            return (np.stack(ret), header)\n",
    "    \n",
    "    def get_input_dim(self):\n",
    "        if self._input_dim is None:\n",
    "            name, norm, end_time = self._data[index]\n",
    "            (X, header) = self._read_timeseries(name)\n",
    "            self._input_dim = X.shape[1]\n",
    "        return self._input_dim    \n",
    "        \n",
    "    def read_example(self, index):\n",
    "        \"\"\" Reads the example with given index.\n",
    "\n",
    "        :param index: Index of the line of the listfile to read (counting starts from 0).\n",
    "        :return: Dictionary with the following keys:\n",
    "            X : np.array\n",
    "                2D array containing all events. Each row corresponds to a moment.\n",
    "                First column is the time and other columns correspond to different\n",
    "                variables.\n",
    "            t : float\n",
    "                Length of the data in hours. Note, in general, it is not equal to the\n",
    "                timestamp of last event.\n",
    "            y : int (0 or 1)\n",
    "                In-hospital mortality.\n",
    "            header : array of strings\n",
    "                Names of the columns. The ordering of the columns is always the same.\n",
    "            name: Name of the sample.\n",
    "        \"\"\"\n",
    "        if index < 0 or index >= len(self._data):\n",
    "            raise ValueError(\"Index must be from 0 (inclusive) to number of lines (exclusive).\")\n",
    "            \n",
    "        name, norm, end_time = self._data[index]\n",
    "        end_time += 48\n",
    "        t = self._period_length\n",
    "        (X, header) = self._read_timeseries(name)\n",
    "\n",
    "        return {\"X\": X,\n",
    "                \"t\": t,\n",
    "                \"norm\": norm,\n",
    "                \"end_time\": end_time,\n",
    "                \"header\": header,\n",
    "                \"name\": name}        "
   ]
  },
  {
   "cell_type": "code",
   "execution_count": 3,
   "metadata": {},
   "outputs": [],
   "source": [
    "# Data Directories\n",
    "data_basedir = '/work/MIMIC/processed_data'\n",
    "data_patient_embedding = os.path.join(data_basedir, 'patient_embeddings_test')"
   ]
  },
  {
   "cell_type": "code",
   "execution_count": 4,
   "metadata": {},
   "outputs": [],
   "source": [
    "train_reader = PatientEmbeddingReader(dataset_dir=os.path.join(data_patient_embedding, 'train'), \n",
    "                                      listfile=os.path.join(data_patient_embedding, 'train', 'listfile.csv'), \n",
    "                                      period_length=48.0)"
   ]
  },
  {
   "cell_type": "code",
   "execution_count": 5,
   "metadata": {},
   "outputs": [],
   "source": [
    "discretizer = DiscretizerContinuous(timestep=1.0,\n",
    "                                    store_masks=False,\n",
    "                                    impute_strategy='previous',\n",
    "                                    start_time='zero')"
   ]
  },
  {
   "cell_type": "code",
   "execution_count": 6,
   "metadata": {},
   "outputs": [],
   "source": [
    "discretizer_header = discretizer.transform(train_reader.read_example(0)[\"X\"])[1]\n",
    "cont_channels = [i for (i, x) in enumerate(discretizer_header) if x.find(\"->\") == -1]"
   ]
  },
  {
   "cell_type": "code",
   "execution_count": 7,
   "metadata": {},
   "outputs": [
    {
     "data": {
      "text/plain": [
       "[0, 1, 2, 3, 4, 5, 6, 7, 8, 9, 10, 11, 12, 13, 14, 15, 16]"
      ]
     },
     "execution_count": 7,
     "metadata": {},
     "output_type": "execute_result"
    }
   ],
   "source": [
    "cont_channels"
   ]
  },
  {
   "cell_type": "code",
   "execution_count": 8,
   "metadata": {},
   "outputs": [
    {
     "data": {
      "text/plain": [
       "(17,)"
      ]
     },
     "execution_count": 8,
     "metadata": {},
     "output_type": "execute_result"
    }
   ],
   "source": [
    "discretizer.transform(train_reader.read_example(0)[\"X\"])[0][1].shape"
   ]
  },
  {
   "cell_type": "code",
   "execution_count": 9,
   "metadata": {},
   "outputs": [
    {
     "data": {
      "text/plain": [
       "['Capillary refill rate',\n",
       " 'Diastolic blood pressure',\n",
       " 'Fraction inspired oxygen',\n",
       " 'Glascow coma scale eye opening',\n",
       " 'Glascow coma scale motor response',\n",
       " 'Glascow coma scale total',\n",
       " 'Glascow coma scale verbal response',\n",
       " 'Glucose',\n",
       " 'Heart Rate',\n",
       " 'Height',\n",
       " 'Mean blood pressure',\n",
       " 'Oxygen saturation',\n",
       " 'Respiratory rate',\n",
       " 'Systolic blood pressure',\n",
       " 'Temperature',\n",
       " 'Weight',\n",
       " 'pH']"
      ]
     },
     "execution_count": 9,
     "metadata": {},
     "output_type": "execute_result"
    }
   ],
   "source": [
    "discretizer_header"
   ]
  },
  {
   "cell_type": "code",
   "execution_count": 10,
   "metadata": {},
   "outputs": [],
   "source": [
    "normalizer = Normalizer(fields=cont_channels)\n",
    "normalizer_state = 'ptemb_ts1.0.input_str:previous.start_time:zero.normalizer'\n",
    "normalizer_state = os.path.join(\"/work/mimic3-benchmarks/mimic3models/patient_embedding\", normalizer_state)\n",
    "normalizer.load_params(normalizer_state)"
   ]
  },
  {
   "cell_type": "code",
   "execution_count": 11,
   "metadata": {},
   "outputs": [
    {
     "data": {
      "text/plain": [
       "(17,)"
      ]
     },
     "execution_count": 11,
     "metadata": {},
     "output_type": "execute_result"
    }
   ],
   "source": [
    "normalizer._stds.shape"
   ]
  },
  {
   "cell_type": "code",
   "execution_count": 12,
   "metadata": {},
   "outputs": [
    {
     "data": {
      "text/plain": [
       "array([['114.21499999999999', '', '76.0', ..., '37.444445292154946', '',\n",
       "        ''],\n",
       "       ['115.21499999999999', '', '83.0', ..., '', '', ''],\n",
       "       ['116.21499999999999', '', '89.0', ..., '', '', ''],\n",
       "       ...,\n",
       "       ['260.215', '', '68.0', ..., '', '', ''],\n",
       "       ['262.215', '', '80.0', ..., '37.66669845581055', '', ''],\n",
       "       ['275.21500000000003', '', '', ..., '', '', '']], dtype='<U18')"
      ]
     },
     "execution_count": 12,
     "metadata": {},
     "output_type": "execute_result"
    }
   ],
   "source": [
    "train_reader.read_example(0)[\"X\"]"
   ]
  },
  {
   "cell_type": "code",
   "execution_count": 13,
   "metadata": {},
   "outputs": [],
   "source": [
    "import torch\n",
    "from torch.utils import data\n",
    "import copy\n",
    "\n",
    "#Pytorch Wrapper for load_data --> Feeds of PatientEmbeddingReader\n",
    "class PatientEmbeddingDataset(data.Dataset):\n",
    "    def __init__(self, reader, discretizer, normalizer=None, mask_percent=.15, return_name=False):\n",
    "        self.reader = reader\n",
    "        self.discretizer = discretizer\n",
    "        self.normalizer = normalizer\n",
    "        self.mask_percent = mask_percent\n",
    "        self.return_name = return_name\n",
    "    \n",
    "    def __len__(self):\n",
    "        return self.reader.get_number_of_examples()\n",
    "    \n",
    "    def get_input_dim(self):\n",
    "        return self.reader.get_input_dim()\n",
    "    \n",
    "    def get_seq_length(self):\n",
    "        return self.reader._period_length\n",
    "    \n",
    "    def __getitem__(self, index):\n",
    "        ret = self.reader.read_example(index)\n",
    "        \n",
    "        X = ret[\"X\"]\n",
    "        t = ret[\"t\"]\n",
    "        end = ret[\"end_time\"]\n",
    "        name = ret[\"name\"]\n",
    "        norm = ret[\"norm\"]\n",
    "        \n",
    "        X = self.discretizer.transform(X, end=end)[0][-int(t):]\n",
    "        if self.normalizer is not None:\n",
    "            X = self.normalizer.transform(X)\n",
    "        \n",
    "        src = np.array(X[-int(t):-int(t/2)])\n",
    "        tgt = np.array(X[-int(t/2):])\n",
    "        \n",
    "        mask = np.zeros(int(t/2))\n",
    "        n_masks = round(self.mask_percent*int(t/2))\n",
    "        mask_ids = np.random.permutation(int(t/2))[:n_masks]\n",
    "        mask[mask_ids] = 1\n",
    "        \n",
    "        src_masked = copy.deepcopy(src)\n",
    "        src_masked[(mask==1), :] = 0\n",
    "        \n",
    "        tgt_input = np.vstack((src[-1,:], tgt[:-1,:]))\n",
    "        \n",
    "        if not self.return_name:\n",
    "            return {'src_masked':src_masked, 'src':src, \n",
    "                    'tgt_input':tgt_input, 'tgt':tgt, \n",
    "                    'norm':norm, 'mask':mask}\n",
    "        return {'src_masked':src_masked, 'src':src, \n",
    "                    'tgt_input':tgt_input, 'tgt':tgt, \n",
    "                    'norm':norm, 'mask':mask, 'name':name}\n",
    "        \n",
    "        "
   ]
  },
  {
   "cell_type": "code",
   "execution_count": 14,
   "metadata": {},
   "outputs": [],
   "source": [
    "PEmbDataset = PatientEmbeddingDataset(reader=train_reader, discretizer=discretizer, normalizer=normalizer, return_name=True)\n"
   ]
  },
  {
   "cell_type": "code",
   "execution_count": 15,
   "metadata": {},
   "outputs": [],
   "source": [
    "training_generator = data.DataLoader(PEmbDataset, batch_size=512, shuffle=True, num_workers=12)"
   ]
  },
  {
   "cell_type": "code",
   "execution_count": 16,
   "metadata": {},
   "outputs": [
    {
     "name": "stdout",
     "output_type": "stream",
     "text": [
      "torch.Size([512, 24, 17])\n"
     ]
    }
   ],
   "source": [
    "for i, data in enumerate(training_generator):\n",
    "    if i == 1:\n",
    "        break\n",
    "    print(data['src_masked'].shape)"
   ]
  }
 ],
 "metadata": {
  "kernelspec": {
   "display_name": "Python 3",
   "language": "python",
   "name": "python3"
  },
  "language_info": {
   "codemirror_mode": {
    "name": "ipython",
    "version": 3
   },
   "file_extension": ".py",
   "mimetype": "text/x-python",
   "name": "python",
   "nbconvert_exporter": "python",
   "pygments_lexer": "ipython3",
   "version": "3.6.5"
  },
  "varInspector": {
   "cols": {
    "lenName": 16,
    "lenType": 16,
    "lenVar": 40
   },
   "kernels_config": {
    "python": {
     "delete_cmd_postfix": "",
     "delete_cmd_prefix": "del ",
     "library": "var_list.py",
     "varRefreshCmd": "print(var_dic_list())"
    },
    "r": {
     "delete_cmd_postfix": ") ",
     "delete_cmd_prefix": "rm(",
     "library": "var_list.r",
     "varRefreshCmd": "cat(var_dic_list()) "
    }
   },
   "types_to_exclude": [
    "module",
    "function",
    "builtin_function_or_method",
    "instance",
    "_Feature"
   ],
   "window_display": false
  }
 },
 "nbformat": 4,
 "nbformat_minor": 2
}

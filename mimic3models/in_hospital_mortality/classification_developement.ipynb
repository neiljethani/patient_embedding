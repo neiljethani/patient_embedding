{
 "cells": [
  {
   "cell_type": "code",
   "execution_count": 1,
   "metadata": {},
   "outputs": [],
   "source": [
    "import sys\n",
    "sys.path.insert(0,\"/work/pip\")"
   ]
  },
  {
   "cell_type": "code",
   "execution_count": 2,
   "metadata": {},
   "outputs": [],
   "source": [
    "import numpy as np\n",
    "import torch\n",
    "import torch.nn as nn\n",
    "import torch.nn.functional as F\n",
    "import math, copy, time\n",
    "from torch.autograd import Variable"
   ]
  },
  {
   "cell_type": "markdown",
   "metadata": {},
   "source": [
    "# In Hosptital Mortality Classification \n",
    "\n",
    "- Classifiers For Each Data Input Type\n",
    "    - Transformer\n",
    "        - Input: 24 x (17*6) --> 17*6\n",
    "        - First Use 1D Covultional Attention Layer to determine attention weigts \n",
    "        - Classifcation: Attention Weights Calc --> Single Hidden Layer --> Softmax Classifcation Layer \n",
    "    - DAE\n",
    "        - Input: 17*6 \n",
    "        - Classification: Single Hidden Layer --> Softmax Classifcation Layer \n",
    "    - PCA\n",
    "        - Input: 17*6\n",
    "        - Classification: Single Hidden Layer --> Softmax Classifcation Layer\n",
    "    - RAW \n",
    "        - Input: 17*24\n",
    "        - Classification : Two Hidden Layers --> Softmax Classifcation Layer\n",
    "            - Layer 1: 17*24 --> 17*6 = First Reduce Dimensionality to the same degree"
   ]
  },
  {
   "cell_type": "markdown",
   "metadata": {},
   "source": [
    "## Tranformer Classifier"
   ]
  },
  {
   "cell_type": "code",
   "execution_count": 38,
   "metadata": {},
   "outputs": [],
   "source": [
    "class TransformerClassifier(nn.Module):\n",
    "    def __init__(self, d_model, seq_len, dropout=0.1):\n",
    "        super(TransformerClassifier, self).__init__()\n",
    "        self.conv = nn.Conv1d(seq_len, seq_len, d_model)\n",
    "        self.hidden = nn.Linear(d_model, d_model)\n",
    "        self.output = nn.Linear(d_model, 2)\n",
    "        self.dropout = nn.Dropout(dropout)\n",
    "        \n",
    "    def forward(self, x):\n",
    "        attn_weights = F.softmax(F.relu(self.conv(x)), dim=1).transpose(1,2)\n",
    "        x = torch.bmm(attn_weights, x)\n",
    "        x = F.relu(self.dropout(self.hidden(x)))\n",
    "        x = F.softmax(self.output(x)) \n",
    "        return x"
   ]
  },
  {
   "cell_type": "code",
   "execution_count": 37,
   "metadata": {},
   "outputs": [
    {
     "data": {
      "text/plain": [
       "torch.Size([512, 1, 17])"
      ]
     },
     "execution_count": 37,
     "metadata": {},
     "output_type": "execute_result"
    }
   ],
   "source": [
    "#Test Attn_weight convolution method\n",
    "m = nn.Conv1d(5, 5, 17, stride=1)\n",
    "input = torch.randn(512, 5, 17)\n",
    "output = F.softmax(m(input), dim = 1)\n",
    "output.transpose(1, 2).bmm(input).shape"
   ]
  },
  {
   "cell_type": "markdown",
   "metadata": {},
   "source": [
    "## DAE/PCA Classifier"
   ]
  },
  {
   "cell_type": "code",
   "execution_count": 39,
   "metadata": {},
   "outputs": [],
   "source": [
    "class FlatClassifier(nn.Module):\n",
    "    def __init__(self, d_model, dropout=0.1):\n",
    "        super(FlatClassifier, self).__init__()\n",
    "        self.hidden = nn.Linear(d_model, d_model)\n",
    "        self.output = nn.Linear(d_model, 2)\n",
    "        self.dropout = nn.Dropout(dropout)\n",
    "        \n",
    "    def forward(self, x):\n",
    "        x = F.relu(self.dropout(self.hidden(x)))\n",
    "        x = F.softmax(self.output(x))\n",
    "        return x"
   ]
  },
  {
   "cell_type": "markdown",
   "metadata": {},
   "source": [
    "## Raw Classifier"
   ]
  },
  {
   "cell_type": "code",
   "execution_count": 40,
   "metadata": {},
   "outputs": [],
   "source": [
    "class RawClassifier(nn.Module):\n",
    "    def __init__(self, d_input, d_model, dropout=0.1):\n",
    "        super(RawClassifier, self).__init__()\n",
    "        self.embed = nn.Linear(d_input, d_model)\n",
    "        self.hidden = nn.Linear(d_model, d_model)\n",
    "        self.output = nn.Linear(d_model, 2)\n",
    "        self.embed_dropout = nn.Dropout(dropout)\n",
    "        self.hidden_dropout = nn.Dropout(dropout)\n",
    "    \n",
    "    def forward(self, x):\n",
    "        x = F.relu(self.embed_dropout(self.embed(x)))\n",
    "        x = F.relu(self.hidden_dropout(self.hidden(x)))\n",
    "        x = F.softmax(self.output(x))\n",
    "        return x"
   ]
  }
 ],
 "metadata": {
  "kernelspec": {
   "display_name": "Python 3",
   "language": "python",
   "name": "python3"
  },
  "language_info": {
   "codemirror_mode": {
    "name": "ipython",
    "version": 3
   },
   "file_extension": ".py",
   "mimetype": "text/x-python",
   "name": "python",
   "nbconvert_exporter": "python",
   "pygments_lexer": "ipython3",
   "version": "3.6.5"
  },
  "varInspector": {
   "cols": {
    "lenName": 16,
    "lenType": 16,
    "lenVar": 40
   },
   "kernels_config": {
    "python": {
     "delete_cmd_postfix": "",
     "delete_cmd_prefix": "del ",
     "library": "var_list.py",
     "varRefreshCmd": "print(var_dic_list())"
    },
    "r": {
     "delete_cmd_postfix": ") ",
     "delete_cmd_prefix": "rm(",
     "library": "var_list.r",
     "varRefreshCmd": "cat(var_dic_list()) "
    }
   },
   "types_to_exclude": [
    "module",
    "function",
    "builtin_function_or_method",
    "instance",
    "_Feature"
   ],
   "window_display": false
  }
 },
 "nbformat": 4,
 "nbformat_minor": 2
}
